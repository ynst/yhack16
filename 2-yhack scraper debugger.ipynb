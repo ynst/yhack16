{
 "cells": [
  {
   "cell_type": "code",
   "execution_count": 2,
   "metadata": {
    "collapsed": true
   },
   "outputs": [],
   "source": [
    "import sys\n",
    "import requests\n",
    "import csv"
   ]
  },
  {
   "cell_type": "code",
   "execution_count": 22,
   "metadata": {
    "collapsed": true
   },
   "outputs": [],
   "source": [
    "def makeSoup(url):\n",
    "    headers = {'User-Agent': 'Mozilla/5.0 (Macintosh; Intel Mac OS X 10_10_1) AppleWebKit/537.36 (KHTML, like Gecko) Chrome/39.0.2171.95 Safari/537.36'}\n",
    "    return BeautifulSoup(requests.get(url, headers=headers).content, 'lxml').find('body')"
   ]
  },
  {
   "cell_type": "code",
   "execution_count": 5,
   "metadata": {
    "collapsed": true
   },
   "outputs": [],
   "source": [
    "def scrape_bio(uid):\n",
    "    url = \"https://nces.ed.gov/ccd/schoolsearch/school_detail.asp?ID=\" + uid\n",
    "    response = makeSoup(url)\n",
    "    return Bio(response.content)\n"
   ]
  },
  {
   "cell_type": "code",
   "execution_count": 23,
   "metadata": {
    "collapsed": true
   },
   "outputs": [],
   "source": [
    "soup = makeSoup(\"https://nces.ed.gov/ccd/schoolsearch/school_detail.asp?ID=220048000322\")"
   ]
  },
  {
   "cell_type": "code",
   "execution_count": 60,
   "metadata": {
    "collapsed": false
   },
   "outputs": [
    {
     "ename": "AttributeError",
     "evalue": "'NoneType' object has no attribute 'text'",
     "output_type": "error",
     "traceback": [
      "\u001b[1;31m---------------------------------------------------------------------------\u001b[0m",
      "\u001b[1;31mAttributeError\u001b[0m                            Traceback (most recent call last)",
      "\u001b[1;32m<ipython-input-60-3712d47b8d6d>\u001b[0m in \u001b[0;36m<module>\u001b[1;34m()\u001b[0m\n\u001b[1;32m----> 1\u001b[1;33m \u001b[0msoup\u001b[0m\u001b[1;33m.\u001b[0m\u001b[0mfind\u001b[0m\u001b[1;33m(\u001b[0m\u001b[1;34m'h1'\u001b[0m\u001b[1;33m)\u001b[0m\u001b[1;33m.\u001b[0m\u001b[0mtext\u001b[0m\u001b[1;33m\u001b[0m\u001b[0m\n\u001b[0m",
      "\u001b[1;31mAttributeError\u001b[0m: 'NoneType' object has no attribute 'text'"
     ]
    }
   ],
   "source": [
    "soup.find('h1').text\n"
   ]
  },
  {
   "cell_type": "code",
   "execution_count": 26,
   "metadata": {
    "collapsed": false
   },
   "outputs": [
    {
     "name": "stdout",
     "output_type": "stream",
     "text": [
      "19\n"
     ]
    }
   ],
   "source": [
    "print len(drows)"
   ]
  },
  {
   "cell_type": "code",
   "execution_count": 25,
   "metadata": {
    "collapsed": false
   },
   "outputs": [],
   "source": [
    "drows = soup.find('table').find_all('tr', recursive=False)"
   ]
  },
  {
   "cell_type": "code",
   "execution_count": 27,
   "metadata": {
    "collapsed": true
   },
   "outputs": [],
   "source": [
    "t1 = drows[3].find('table')"
   ]
  },
  {
   "cell_type": "code",
   "execution_count": 32,
   "metadata": {
    "collapsed": true
   },
   "outputs": [],
   "source": [
    "t2 = drows[7].find('table')"
   ]
  },
  {
   "cell_type": "code",
   "execution_count": 41,
   "metadata": {
    "collapsed": true
   },
   "outputs": [],
   "source": [
    "t3 = drows[11].find('table')"
   ]
  },
  {
   "cell_type": "code",
   "execution_count": 31,
   "metadata": {
    "collapsed": false
   },
   "outputs": [
    {
     "data": {
      "text/plain": [
       "<td valign=\"top\" width=\"40%\"><strong><font size=\"2\">Physical Address:</font></strong><br/><font size=\"3\">5920 Highway 129<br/>Monterey,\\xa0LA\\xa071354</font></td>"
      ]
     },
     "execution_count": 31,
     "metadata": {},
     "output_type": "execute_result"
    }
   ],
   "source": [
    "t1.find_all('tr')[4].find_all('td')[2\n",
    "                                   ]"
   ]
  },
  {
   "cell_type": "code",
   "execution_count": 40,
   "metadata": {
    "collapsed": false
   },
   "outputs": [
    {
     "data": {
      "text/plain": [
       "<td rowspan=\"2\">\\n<table border=\"0\" cellpadding=\"0\" cellspacing=\"0\">\\n<tr>\\n<td align=\"left\"><strong><font size=\"2\">Total Students:</font></strong></td>\\n<td><img border=\"0\" height=\"10\" src=\"/ccd/commonfiles/images/spacer.gif\" width=\"4\"/></td>\\n<td align=\"right\"><font size=\"3\">496</font></td>\\n</tr>\\n<tr>\\n<td align=\"left\"><strong><font size=\"2\">Classroom Teachers (FTE):</font></strong></td>\\n<td><img border=\"0\" height=\"10\" src=\"/ccd/commonfiles/images/spacer.gif\" width=\"4\"/></td>\\n<td align=\"right\"><font size=\"3\">34.64</font></td>\\n</tr>\\n<tr>\\n<td align=\"left\"><strong><font size=\"2\">Student/Teacher Ratio:</font></strong></td>\\n<td><img border=\"0\" height=\"10\" src=\"/ccd/commonfiles/images/spacer.gif\" width=\"4\"/></td>\\n<td align=\"right\"><font size=\"3\">14.32</font></td>\\n</tr>\\n</table>\\n</td>"
      ]
     },
     "execution_count": 40,
     "metadata": {},
     "output_type": "execute_result"
    }
   ],
   "source": [
    "t2.find_all('tr', recursive=False)[1].find_all('td', recursive=False)[1]"
   ]
  },
  {
   "cell_type": "code",
   "execution_count": 58,
   "metadata": {
    "collapsed": false,
    "scrolled": true
   },
   "outputs": [
    {
     "data": {
      "text/plain": [
       "[<td align=\"right\" bgcolor=\"#23619E\"><font color=\"#FFFFFF\" size=\"2\">\\xa0</font></td>,\n",
       " <td align=\"center\" bgcolor=\"#23619E\" width=\"68\"><strong><font color=\"#FFFFFF\" size=\"2\">Amer Ind/<br/>Alaskan</font></strong></td>,\n",
       " <td align=\"center\" bgcolor=\"#23619E\" width=\"68\"><strong><font color=\"#FFFFFF\" size=\"2\">Asian/<br/>Pacific Islander\\r\\n*\\r\\n\\t\\t\\t</font></strong></td>,\n",
       " <td align=\"center\" bgcolor=\"#23619E\" width=\"68\"><strong><font color=\"#FFFFFF\" size=\"2\">Black</font></strong></td>,\n",
       " <td align=\"center\" bgcolor=\"#23619E\" width=\"68\"><strong><font color=\"#FFFFFF\" size=\"2\">Hispanic</font></strong></td>,\n",
       " <td align=\"center\" bgcolor=\"#23619E\" width=\"68\"><strong><font color=\"#FFFFFF\" size=\"2\">White</font></strong></td>,\n",
       " <td align=\"center\" bgcolor=\"#23619E\" width=\"68\"><strong><font color=\"#FFFFFF\" size=\"2\">Two or More<br/>Races</font></strong></td>]"
      ]
     },
     "execution_count": 58,
     "metadata": {},
     "output_type": "execute_result"
    }
   ],
   "source": [
    "t3.find_all('tr', recursive=False)[1].find('table').find_all('tr')[2].find_all('td')"
   ]
  },
  {
   "cell_type": "code",
   "execution_count": 1,
   "metadata": {
    "collapsed": true
   },
   "outputs": [],
   "source": [
    "from bs4 import BeautifulSoup\n",
    "\n",
    "class Bio:\n",
    "    \"\"\"Encapsulates a school listing.\"\"\"\n",
    "    def __init__(self, html):\n",
    "        print('initializing')\n",
    "\n",
    "        self._html = html\n",
    "        self._soup = BeautifulSoup(self._html, 'html.parser').find('body')\n",
    "\n",
    "        # there are 6 of these!\n",
    "        # self._dataRows = self._soup.find_all('table')\n",
    "        self._tables = self._soup.find_all('table')\n",
    "        # .find_all('tr')\n",
    "\n",
    "        # print(len(self._dataRows))\n",
    "        # print(self._tables[0])\n",
    "        # print(self._tables[1])\n",
    "        print(self._tables[2])\n",
    "        # print(self._dataRows)\n",
    "        # print(self._dataRows[3])\n",
    "\n",
    "        # self._tables = [self._dataRows[4].find('table'),\n",
    "        #                 self._dataRows[7].find('table'),\n",
    "        #                 self._dataRows[11].find('table')]\n",
    "\n",
    "        \n",
    "\n",
    "    # School Data: 3rd row\n",
    "    \"\"\"address\"\"\"\n",
    "    # get the \"5th\" row (there are blank spacers in between)\n",
    "    # Then take the second cell\n",
    "    @property\n",
    "    def address(self):\n",
    "        return self._tables[0].find_all('tr')[4].find_all('td')[1]\\\n",
    "            .find('font').text.strip()\n",
    "\n",
    "    @property\n",
    "    def phone(self):\n",
    "        return self._tables[0].find_all('tr')[4].find_all('td')[2]\\\n",
    "            .find('font').text.strip()\n",
    "\n",
    "    # School Data: 5th row\n",
    "    @property\n",
    "    def schoolType(self):\n",
    "        return self._tables[0].find_all('tr')[6].find_all('td')[0].text.strip()\n",
    "\n",
    "    @property\n",
    "    def status(self):\n",
    "        return self._tables[0].find_all('tr')[6].find_all('td')[1].text.strip()\n",
    "\n",
    "    # These are mixed with the table row.\n",
    "    @property\n",
    "    def isCharter(self):\n",
    "        return self._tables[0].find_all('tr')[6].find_all('td')[2].text.strip()\n",
    "\n",
    "    # this is the \"school details\"\n",
    "    @property\n",
    "    def detailYears(self):\n",
    "        return self._dataRows[5].find('font').text.strip()\n",
    "\n",
    "    # let's actually fill out those school details\n",
    "    @property\n",
    "    def county(self):\n",
    "        return self._tables[1].find_all('tr')[0].find('font').text.strip()\n",
    "\n",
    "    @property\n",
    "    def gradeSpan(self):\n",
    "        # assumes grades are contiguous\n",
    "        return self._tables[1].find_all('tr')[1].find_all('td')[0]\\\n",
    "            .find('table').find_all('tr')[0].find_all('font')[2].text.strip()\n",
    "\n",
    "    # right side table\n",
    "    @property\n",
    "    def totalStudents(self):\n",
    "        return self._tables[1].find_all('tr')[1].find_all('td')[1]\\\n",
    "            .find('table').find_all('tr')[0].find_all('td')[2].text.strip()\n",
    "\n",
    "    # Fulltime only\n",
    "    @property\n",
    "    def totalTeachers(self):\n",
    "        return self._tables[1].find_all('tr')[1].find_all('td')[1]\\\n",
    "            .find('table').find_all('tr')[1].find_all('td')[2].text.strip()\n",
    "\n",
    "    @property\n",
    "    def studentTeacherRatio(self):\n",
    "        return self._tables[1].find_all('tr')[1].find_all('td')[1]\\\n",
    "            .find('table').find_all('tr')[2].find_all('td')[2].text.strip()\n",
    "\n",
    "    # jump to third row\n",
    "    @property\n",
    "    def locale(self):\n",
    "        return self._tables[1].find_all('tr')[2].find('td')[0].text.strip()\n",
    "\n",
    "    @property\n",
    "    def isMagnet(self):\n",
    "        return self._tables[1].find_all('tr')[3].find('td')[0].text.strip()\n",
    "\n",
    "    @property\n",
    "    def titleOneStatus(self):\n",
    "        return self._tables[1].find_all('tr')[3].find('td')[1].text.strip()\n",
    "\n",
    "    # this is the \"enrollment details\"\n",
    "    @property\n",
    "    def enrollmentYears(self):\n",
    "        return self._dataRows[9].find('font').text.strip()\n",
    "\n",
    "    # this is the \"enrollment details\"\n",
    "    @property\n",
    "    def enrollByGrade(self):\n",
    "        cells = self._tables[2].find('tr').find('table').find_all('tr')[1]\\\n",
    "            .find('table').find('table').find_all('tr')[1].find_all('td')\n",
    "        return [cell.text.strip() for cell in cells[1:]]\n",
    "\n",
    "    # omit keys\n",
    "    def enrollByRace(self):\n",
    "        cells = self._tables[2].find_all('tr')[1].find('table')\\\n",
    "            .find_all('tr')[1].find('table').find_all('tr')[1].find_all('td')\n",
    "        return [cell.text.strip() for cell in cells[1:]]\n",
    "\n",
    "    def enrollByGender(self):\n",
    "        cells = self._tables[2].find_all('tr')[2].find('table')\\\n",
    "            .find_all('tr')[1].find('table').find_all('tr')[1].find_all('td')\n",
    "        return [cell.text.strip() for cell in cells[1:]]\n",
    "\n",
    "    def freeLunch(self):\n",
    "        return self._dataRows[13].find('table').find('table')\\\n",
    "            .find_all('td')[0].text.strip()\n",
    "\n",
    "    def reducedLunch(self):\n",
    "        return self._dataRows[13].find('table').find('table')\\\n",
    "            .find_all('td')[1].text.strip()\n"
   ]
  }
 ],
 "metadata": {
  "kernelspec": {
   "display_name": "Python 2",
   "language": "python",
   "name": "python2"
  },
  "language_info": {
   "codemirror_mode": {
    "name": "ipython",
    "version": 2
   },
   "file_extension": ".py",
   "mimetype": "text/x-python",
   "name": "python",
   "nbconvert_exporter": "python",
   "pygments_lexer": "ipython2",
   "version": "2.7.12"
  }
 },
 "nbformat": 4,
 "nbformat_minor": 0
}
