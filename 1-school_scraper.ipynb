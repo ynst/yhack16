{
 "cells": [
  {
   "cell_type": "code",
   "execution_count": 1,
   "metadata": {
    "collapsed": true
   },
   "outputs": [],
   "source": [
    "# hackathon project!\n",
    "import pandas as pd\n",
    "import numpy as np\n",
    "import matplotlib.pyplot as plt\n",
    "import re\n",
    "import requests\n",
    "import bs4"
   ]
  },
  {
   "cell_type": "code",
   "execution_count": null,
   "metadata": {
    "collapsed": true
   },
   "outputs": [],
   "source": []
  },
  {
   "cell_type": "code",
   "execution_count": 2,
   "metadata": {
    "collapsed": false
   },
   "outputs": [
    {
     "name": "stderr",
     "output_type": "stream",
     "text": [
      "/usr/lib/python2.7/site-packages/IPython/core/interactiveshell.py:2871: DtypeWarning: Columns (15,19,21,23,27,29,35,37,39,45,47,49,51,53,65,67,79,81,83,85,91,95,107,109,111,113,115,119,123,125,131,133,135,137,139,141,143,145,147,149,151,153,157,159,175,177,179,181,183,187,191,197,199,205,209,213,217,219,221,223,225,227) have mixed types. Specify dtype option on import or set low_memory=False.\n",
      "  interactivity=interactivity, compiler=compiler, result=result)\n"
     ]
    }
   ],
   "source": [
    "urls = {}\n",
    "urls['reading'] = \"http://www2.ed.gov/about/inits/ed/edfacts/data-files/math-achievement-sch-sy2014-15.csv\"\n",
    "read_df = pd.read_csv(urls['reading'])"
   ]
  },
  {
   "cell_type": "code",
   "execution_count": 13,
   "metadata": {
    "collapsed": false
   },
   "outputs": [
    {
     "data": {
      "text/plain": [
       "Index([u'STNAM', u'FIPST', u'LEAID', u'LEANM', u'NCESSCH', u'SCHNAM',\n",
       "       u'DATE_CUR', u'ALL_MTH00NUMVALID_1415', u'ALL_MTH00PCTPROF_1415',\n",
       "       u'MAM_MTH00NUMVALID_1415',\n",
       "       ...\n",
       "       u'MIG_MTH05NUMVALID_1415', u'MIG_MTH05PCTPROF_1415',\n",
       "       u'MIG_MTH06NUMVALID_1415', u'MIG_MTH06PCTPROF_1415',\n",
       "       u'MIG_MTH07NUMVALID_1415', u'MIG_MTH07PCTPROF_1415',\n",
       "       u'MIG_MTH08NUMVALID_1415', u'MIG_MTH08PCTPROF_1415',\n",
       "       u'MIG_MTHHSNUMVALID_1415', u'MIG_MTHHSPCTPROF_1415'],\n",
       "      dtype='object', length=231)"
      ]
     },
     "execution_count": 13,
     "metadata": {},
     "output_type": "execute_result"
    }
   ],
   "source": [
    "read_df.columns"
   ]
  },
  {
   "cell_type": "code",
   "execution_count": 18,
   "metadata": {
    "collapsed": true
   },
   "outputs": [],
   "source": [
    "read_df['normal_ids'] = read_df['NCESSCH'].astype(str)"
   ]
  },
  {
   "cell_type": "code",
   "execution_count": 4,
   "metadata": {
    "collapsed": true
   },
   "outputs": [],
   "source": [
    "def appendFront(id):\n",
    "    if len(id) == 11:\n",
    "        return \"0\" + id\n",
    "    else:\n",
    "        return id"
   ]
  },
  {
   "cell_type": "code",
   "execution_count": 7,
   "metadata": {
    "collapsed": true
   },
   "outputs": [],
   "source": [
    "id2 = ids.map(appendFront)"
   ]
  },
  {
   "cell_type": "code",
   "execution_count": 12,
   "metadata": {
    "collapsed": false
   },
   "outputs": [
    {
     "data": {
      "text/plain": [
       "count            88821\n",
       "unique           88821\n",
       "top       220048000322\n",
       "freq                 1\n",
       "Name: NCESSCH, dtype: object"
      ]
     },
     "execution_count": 12,
     "metadata": {},
     "output_type": "execute_result"
    }
   ],
   "source": [
    "id2.describe()"
   ]
  },
  {
   "cell_type": "code",
   "execution_count": 10,
   "metadata": {
    "collapsed": false
   },
   "outputs": [
    {
     "data": {
      "text/plain": [
       "count    88821.0\n",
       "mean        12.0\n",
       "std          0.0\n",
       "min         12.0\n",
       "25%         12.0\n",
       "50%         12.0\n",
       "75%         12.0\n",
       "max         12.0\n",
       "Name: NCESSCH, dtype: float64"
      ]
     },
     "execution_count": 10,
     "metadata": {},
     "output_type": "execute_result"
    }
   ],
   "source": [
    "id2.map(len).describe()"
   ]
  },
  {
   "cell_type": "code",
   "execution_count": 15,
   "metadata": {
    "collapsed": false
   },
   "outputs": [],
   "source": [
    "id2['names'] = read_df['SCHNAM']"
   ]
  },
  {
   "cell_type": "code",
   "execution_count": 22,
   "metadata": {
    "collapsed": false
   },
   "outputs": [],
   "source": [
    "#export cols\n",
    "exportCols = ['STNAM', 'SCHNAM', 'normal_ids' ]"
   ]
  },
  {
   "cell_type": "code",
   "execution_count": 23,
   "metadata": {
    "collapsed": false
   },
   "outputs": [
    {
     "data": {
      "text/html": [
       "<div>\n",
       "<table border=\"1\" class=\"dataframe\">\n",
       "  <thead>\n",
       "    <tr style=\"text-align: right;\">\n",
       "      <th></th>\n",
       "      <th>STNAM</th>\n",
       "      <th>SCHNAM</th>\n",
       "      <th>normal_ids</th>\n",
       "    </tr>\n",
       "  </thead>\n",
       "  <tbody>\n",
       "    <tr>\n",
       "      <th>0</th>\n",
       "      <td>ALABAMA</td>\n",
       "      <td>Ala Avenue Middle Sch</td>\n",
       "      <td>10000500870</td>\n",
       "    </tr>\n",
       "    <tr>\n",
       "      <th>1</th>\n",
       "      <td>ALABAMA</td>\n",
       "      <td>Albertville High Sch</td>\n",
       "      <td>10000500871</td>\n",
       "    </tr>\n",
       "    <tr>\n",
       "      <th>2</th>\n",
       "      <td>ALABAMA</td>\n",
       "      <td>Evans Elem Sch</td>\n",
       "      <td>10000500879</td>\n",
       "    </tr>\n",
       "    <tr>\n",
       "      <th>3</th>\n",
       "      <td>ALABAMA</td>\n",
       "      <td>Albertville Elem Sch</td>\n",
       "      <td>10000500889</td>\n",
       "    </tr>\n",
       "    <tr>\n",
       "      <th>4</th>\n",
       "      <td>ALABAMA</td>\n",
       "      <td>Kate Duncan Smith DAR Middle</td>\n",
       "      <td>10000600193</td>\n",
       "    </tr>\n",
       "  </tbody>\n",
       "</table>\n",
       "</div>"
      ],
      "text/plain": [
       "     STNAM                        SCHNAM   normal_ids\n",
       "0  ALABAMA         Ala Avenue Middle Sch  10000500870\n",
       "1  ALABAMA          Albertville High Sch  10000500871\n",
       "2  ALABAMA                Evans Elem Sch  10000500879\n",
       "3  ALABAMA          Albertville Elem Sch  10000500889\n",
       "4  ALABAMA  Kate Duncan Smith DAR Middle  10000600193"
      ]
     },
     "execution_count": 23,
     "metadata": {},
     "output_type": "execute_result"
    }
   ],
   "source": [
    "export = read_df[exportCols]\n",
    "export.head()"
   ]
  },
  {
   "cell_type": "code",
   "execution_count": 24,
   "metadata": {
    "collapsed": true
   },
   "outputs": [],
   "source": [
    "export.to_csv('yhack16/cache/ids_full.csv.gz', compression='gzip')"
   ]
  },
  {
   "cell_type": "code",
   "execution_count": 11,
   "metadata": {
    "collapsed": true
   },
   "outputs": [],
   "source": [
    "id2.to_json('school_ids.csv')"
   ]
  }
 ],
 "metadata": {
  "kernelspec": {
   "display_name": "Python 2",
   "language": "python",
   "name": "python2"
  },
  "language_info": {
   "codemirror_mode": {
    "name": "ipython",
    "version": 2
   },
   "file_extension": ".py",
   "mimetype": "text/x-python",
   "name": "python",
   "nbconvert_exporter": "python",
   "pygments_lexer": "ipython2",
   "version": "2.7.12"
  }
 },
 "nbformat": 4,
 "nbformat_minor": 0
}
